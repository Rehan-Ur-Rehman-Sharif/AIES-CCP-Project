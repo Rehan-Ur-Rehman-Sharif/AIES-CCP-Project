{
 "cells": [
  {
   "cell_type": "code",
   "execution_count": null,
   "id": "cf231169-1ca4-49c6-bb51-97f7f5614f0f",
   "metadata": {},
   "outputs": [],
   "source": [
    "# ####################################################################################\n",
    "# THIS IS A OPEN AI GPT 3.5 turbo based approach.\n",
    "# IT IS EXTREMELY RATE LIMIT DEPENDENT AND UP TO THE WHIM'S OF OPENAI'S LIMITS\n",
    "#\n",
    "# IT MAY OR MAY NOT WORK ON THE FIRST GO, PROVIDED YOU HAVE A WORKING API KEY.\n",
    "# ####################################################################################"
   ]
  },
  {
   "cell_type": "code",
   "execution_count": 15,
   "id": "c5bd8866-d692-4103-9eeb-f5eb41a320ba",
   "metadata": {},
   "outputs": [],
   "source": [
    "# Imports and Setup sections\n",
    "import os\n",
    "from ultralytics import YOLO\n",
    "from PIL import Image\n",
    "import torch\n",
    "import openai\n",
    "from IPython.display import display, Markdown\n",
    "import ipywidgets as widgets\n",
    "\n",
    "# Set your OpenAI key\n",
    "openai.api_key = os.getenv(\"OPENAI_API_KEY\")  # Or paste it like: \"sk-...\"\n",
    "\n",
    "# Load YOLOv8 model (offline from models/ directory)\n",
    "yolo_models = {\n",
    "    \"nano\": YOLO(\"models/yolov8n.pt\"),\n",
    "    \"small\": YOLO(\"models/yolov8s.pt\"),\n",
    "    \"medium\": YOLO(\"models/yolov8m.pt\"),\n",
    "    \"large\": YOLO(\"models/yolov8l.pt\"),\n",
    "    \"xlarge\": YOLO(\"models/yolov8x.pt\")\n",
    "}\n",
    "# Select default model variant\n",
    "yolo_model = yolo_models[\"xlarge\"]"
   ]
  },
  {
   "cell_type": "code",
   "execution_count": 3,
   "id": "efb22edb-4b47-48d9-bc14-b8c48d0808b2",
   "metadata": {},
   "outputs": [],
   "source": [
    "# 2. Ingredient Detection from Image Folder using YOLO (Gimmicky)\n",
    "\n",
    "def detect_ingredients_from_images(folder_path=\"Available_Ingredients\"):\n",
    "    detected = set()\n",
    "    for file in os.listdir(folder_path):\n",
    "        if file.lower().endswith((\".jpg\", \".jpeg\", \".png\")):\n",
    "            results = yolo_model(os.path.join(folder_path, file))\n",
    "            for r in results:\n",
    "                names = r.names\n",
    "                for c in r.boxes.cls:\n",
    "                    detected.add(names[int(c)])\n",
    "    return sorted(detected)"
   ]
  },
  {
   "cell_type": "code",
   "execution_count": 16,
   "id": "9b09238f-1851-4bc6-8d89-cf4094de79f6",
   "metadata": {},
   "outputs": [],
   "source": [
    "# 3. GPT API-Based Recipe Generation via prompt and ingredients.\n",
    "\n",
    "client = openai.OpenAI()\n",
    "\n",
    "def generate_recipe_gpt(ingredients, dish_type=\"main course\"):\n",
    "    prompt = (\n",
    "        f\"You are a professional chef AI. Create a detailed {dish_type} recipe using the following ingredients:\\n\"\n",
    "        f\"{ingredients}.\\n\"\n",
    "        f\"Include a title, a list of ingredients, and numbered cooking steps.\\n\"\n",
    "    )\n",
    "\n",
    "    try:\n",
    "        response = client.chat.completions.create(\n",
    "            model=\"gpt-3.5-turbo\",\n",
    "            messages=[\n",
    "                {\"role\": \"system\", \"content\": \"You generate well-structured recipes.\"},\n",
    "                {\"role\": \"user\", \"content\": prompt}\n",
    "            ],\n",
    "            temperature=0.7\n",
    "        )\n",
    "        return response.choices[0].message.content.strip()\n",
    "\n",
    "    except Exception as e:\n",
    "        return f\"❌ Error generating recipe: {e}\""
   ]
  },
  {
   "cell_type": "code",
   "execution_count": 18,
   "id": "885320c8-348e-4a23-b170-ba6341412bf3",
   "metadata": {},
   "outputs": [],
   "source": [
    "# 4. Combine Image Detected + Manually input Ingredients\n",
    "\n",
    "manual_input = widgets.Textarea(\n",
    "    placeholder=\"Add undetected items here (e.g. salt, pepper, spices)...\",\n",
    "    description=\"Extra Items:\",\n",
    "    layout=widgets.Layout(width=\"100%\", height=\"60px\")\n",
    ")\n",
    "\n",
    "dish_dropdown = widgets.Dropdown(\n",
    "    options=[\"main course\", \"dessert\", \"salad\", \"vegan\", \"quick meal\"],\n",
    "    value=\"main course\",\n",
    "    description=\"Dish Type:\"\n",
    ")\n",
    "\n",
    "generate_btn = widgets.Button(description=\"Generate Recipe\", button_style=\"success\")\n",
    "output_area = widgets.Output()"
   ]
  },
  {
   "cell_type": "code",
   "execution_count": 20,
   "id": "a8ab0a52-ff59-436d-8f6c-1a020141ba8f",
   "metadata": {},
   "outputs": [],
   "source": [
    "# 5. Button Callback to Run Detection + Generation using widgets library\n",
    "\n",
    "def on_generate(b):\n",
    "    with output_area:\n",
    "        output_area.clear_output()\n",
    "        display(Markdown(\"### 🧑‍🍳 Detecting ingredients from images...\"))\n",
    "        detected = detect_ingredients_from_images()\n",
    "        combined_ingredients = detected + manual_input.value.split(',')\n",
    "        cleaned = [i.strip() for i in combined_ingredients if i.strip()]\n",
    "        final_ingredient_list = \", \".join(cleaned)\n",
    "        \n",
    "        display(Markdown(f\"**Ingredients Used:** {final_ingredient_list}\"))\n",
    "        display(Markdown(\"### 📜 Generating recipe using GPT...\"))\n",
    "        recipe = generate_recipe_gpt(final_ingredient_list, dish_dropdown.value)\n",
    "        display(Markdown(recipe))\n",
    "\n",
    "generate_btn.on_click(on_generate)"
   ]
  },
  {
   "cell_type": "code",
   "execution_count": 22,
   "id": "89167787-7bba-4d1d-a3ca-b027636601d3",
   "metadata": {
    "scrolled": true
   },
   "outputs": [
    {
     "data": {
      "application/vnd.jupyter.widget-view+json": {
       "model_id": "549ed62d7c344114827d4fbb03cba8c7",
       "version_major": 2,
       "version_minor": 0
      },
      "text/plain": [
       "VBox(children=(HTML(value='<h2>🧠 AI Cooking Assistant (Prototype)</h2>'), HTML(value='<p><b>Detected from:</b>…"
      ]
     },
     "metadata": {},
     "output_type": "display_data"
    }
   ],
   "source": [
    "# 6. Main Running code to bring functionalities to life.\n",
    "\n",
    "ui = widgets.VBox([\n",
    "    widgets.HTML(\"<h2>🧠 AI Cooking Assistant (Prototype)</h2>\"),\n",
    "    widgets.HTML(\"<p><b>Detected from:</b> <code>Available_Ingredients/</code></p>\"),\n",
    "    manual_input,\n",
    "    dish_dropdown,\n",
    "    generate_btn,\n",
    "    output_area\n",
    "])\n",
    "\n",
    "display(ui)\n"
   ]
  },
  {
   "cell_type": "code",
   "execution_count": null,
   "id": "7da86744-3225-4c56-894c-e4bcebc56dfe",
   "metadata": {},
   "outputs": [],
   "source": []
  }
 ],
 "metadata": {
  "kernelspec": {
   "display_name": "Python 3 (ipykernel)",
   "language": "python",
   "name": "python3"
  },
  "language_info": {
   "codemirror_mode": {
    "name": "ipython",
    "version": 3
   },
   "file_extension": ".py",
   "mimetype": "text/x-python",
   "name": "python",
   "nbconvert_exporter": "python",
   "pygments_lexer": "ipython3",
   "version": "3.12.3"
  }
 },
 "nbformat": 4,
 "nbformat_minor": 5
}
